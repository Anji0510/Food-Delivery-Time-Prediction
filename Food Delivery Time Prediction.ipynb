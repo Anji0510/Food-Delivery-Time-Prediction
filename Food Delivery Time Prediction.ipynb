{
 "cells": [
  {
   "cell_type": "code",
   "execution_count": 8,
   "id": "4c8a93e6-6bf7-4ac6-8d32-24203418397d",
   "metadata": {},
   "outputs": [],
   "source": [
    "import pandas as pd\n",
    "import numpy as np\n",
    "from sklearn.model_selection import train_test_split\n",
    "from keras.models import Sequential\n",
    "from keras.layers import Dense, LSTM\n",
    "import pickle"
   ]
  },
  {
   "cell_type": "code",
   "execution_count": 9,
   "id": "a2989244-1179-4ca9-93c7-602d4bc1397f",
   "metadata": {},
   "outputs": [
    {
     "name": "stdout",
     "output_type": "stream",
     "text": [
      "2.20.0\n"
     ]
    }
   ],
   "source": [
    "import tensorflow as tf\n",
    "print(tf.__version__)\n"
   ]
  },
  {
   "cell_type": "code",
   "execution_count": 11,
   "id": "55365dca-6503-4542-a8c7-45d452af97a4",
   "metadata": {},
   "outputs": [],
   "source": [
    "# ---------------- Helper Functions ----------------\n",
    "R = 6371  # Earth’s radius in km\n",
    "\n",
    "def deg_to_rad(degrees):\n",
    "    return degrees * (np.pi / 180)\n",
    "\n",
    "def distcalculate(lat1, lon1, lat2, lon2):\n",
    "    d_lat = deg_to_rad(lat2 - lat1)\n",
    "    d_lon = deg_to_rad(lon2 - lon1)\n",
    "    a = np.sin(d_lat / 2) ** 2 + np.cos(deg_to_rad(lat1)) * np.cos(deg_to_rad(lat2)) * np.sin(d_lon / 2) ** 2\n",
    "    c = 2 * np.arctan2(np.sqrt(a), np.sqrt(1 - a))\n",
    "    return R * c\n",
    "\n",
    "# ---------------- Load & Clean Data ----------------\n",
    "data = pd.read_csv(\"train.csv\")"
   ]
  },
  {
   "cell_type": "code",
   "execution_count": 13,
   "id": "f2f2fd66-8b1f-4b21-a976-863db83fee7f",
   "metadata": {},
   "outputs": [],
   "source": [
    "# Clean target column\n",
    "data['Time_taken(min)'] = data['Time_taken(min)'].astype(str).str.extract(r'(\\d+\\.?\\d*)')[0]\n",
    "data['Time_taken(min)'] = pd.to_numeric(data['Time_taken(min)'], errors='coerce')\n",
    "\n",
    "# Convert numeric columns\n",
    "numeric_columns = ['Delivery_person_Age', 'Delivery_person_Ratings', \n",
    "                   'Restaurant_latitude', 'Restaurant_longitude', \n",
    "                   'Delivery_location_latitude', 'Delivery_location_longitude']\n"
   ]
  },
  {
   "cell_type": "code",
   "execution_count": 15,
   "id": "f85be432-b9f7-497a-a548-65ac8d317ed0",
   "metadata": {},
   "outputs": [],
   "source": [
    "for col in numeric_columns:\n",
    "    data[col] = pd.to_numeric(data[col], errors='coerce')\n",
    "\n",
    "data_clean = data.dropna(subset=numeric_columns + ['Time_taken(min)'], how='any').copy()\n",
    "\n",
    "data_clean['distance'] = data_clean.apply(\n",
    "    lambda row: distcalculate(\n",
    "        row['Restaurant_latitude'],\n",
    "        row['Restaurant_longitude'],\n",
    "        row['Delivery_location_latitude'],\n",
    "        row['Delivery_location_longitude']\n",
    "    ), axis=1\n",
    ")\n"
   ]
  },
  {
   "cell_type": "code",
   "execution_count": 21,
   "id": "d7d5443e-4c75-4730-93f7-4b2dd5559dee",
   "metadata": {},
   "outputs": [
    {
     "name": "stdout",
     "output_type": "stream",
     "text": [
      "Epoch 1/5\n",
      "\u001b[1m1229/1229\u001b[0m \u001b[32m━━━━━━━━━━━━━━━━━━━━\u001b[0m\u001b[37m\u001b[0m \u001b[1m19s\u001b[0m 10ms/step - loss: 105.0108\n",
      "Epoch 2/5\n",
      "\u001b[1m1229/1229\u001b[0m \u001b[32m━━━━━━━━━━━━━━━━━━━━\u001b[0m\u001b[37m\u001b[0m \u001b[1m13s\u001b[0m 10ms/step - loss: 63.4611\n",
      "Epoch 3/5\n",
      "\u001b[1m1229/1229\u001b[0m \u001b[32m━━━━━━━━━━━━━━━━━━━━\u001b[0m\u001b[37m\u001b[0m \u001b[1m13s\u001b[0m 10ms/step - loss: 60.3375\n",
      "Epoch 4/5\n",
      "\u001b[1m1229/1229\u001b[0m \u001b[32m━━━━━━━━━━━━━━━━━━━━\u001b[0m\u001b[37m\u001b[0m \u001b[1m12s\u001b[0m 10ms/step - loss: 59.0714\n",
      "Epoch 5/5\n",
      "\u001b[1m1229/1229\u001b[0m \u001b[32m━━━━━━━━━━━━━━━━━━━━\u001b[0m\u001b[37m\u001b[0m \u001b[1m12s\u001b[0m 10ms/step - loss: 58.2773\n"
     ]
    }
   ],
   "source": [
    "# ---------------- Train Model ----------------\n",
    "X = np.array(data_clean[[\"Delivery_person_Age\", \"Delivery_person_Ratings\", \"distance\"]])\n",
    "y = np.array(data_clean[[\"Time_taken(min)\"]])\n",
    "\n",
    "xtrain, xtest, ytrain, ytest = train_test_split(X, y, test_size=0.1, random_state=42)\n",
    "\n",
    "# Reshape for LSTM\n",
    "xtrain = xtrain.reshape((xtrain.shape[0], xtrain.shape[1], 1))\n",
    "xtest = xtest.reshape((xtest.shape[0], xtest.shape[1], 1))\n",
    "\n",
    "from keras.models import Sequential\n",
    "from keras.layers import LSTM, Dense, Input\n",
    "\n",
    "# Build LSTM\n",
    "model = Sequential()\n",
    "model.add(Input(shape=(xtrain.shape[1], 1)))   # Explicit Input layer\n",
    "model.add(LSTM(128, return_sequences=True))\n",
    "model.add(LSTM(64, return_sequences=False))\n",
    "model.add(Dense(25, activation='relu'))\n",
    "model.add(Dense(1))\n",
    "\n",
    "model.compile(optimizer='adam', loss='mean_squared_error')\n",
    "\n",
    "history = model.fit(xtrain, ytrain, batch_size=32, epochs=5, verbose=1)"
   ]
  },
  {
   "cell_type": "code",
   "execution_count": 22,
   "id": "7d3485bc-ac3d-4199-9a58-3407133e718e",
   "metadata": {},
   "outputs": [
    {
     "name": "stdout",
     "output_type": "stream",
     "text": [
      "\u001b[1m137/137\u001b[0m \u001b[32m━━━━━━━━━━━━━━━━━━━━\u001b[0m\u001b[37m\u001b[0m \u001b[1m2s\u001b[0m 9ms/step\n",
      "📊 Model Evaluation Metrics:\n",
      "Mean Absolute Error (MAE): 6.17\n",
      "Mean Squared Error (MSE): 60.99\n",
      "Root Mean Squared Error (RMSE): 7.81\n",
      "R² Score: 0.30\n"
     ]
    }
   ],
   "source": [
    "from sklearn.metrics import mean_absolute_error, mean_squared_error, r2_score\n",
    "import numpy as np\n",
    "\n",
    "# ---------------- Evaluate Model ----------------\n",
    "# Predict on test set\n",
    "y_pred = model.predict(xtest)\n",
    "\n",
    "# Flatten arrays\n",
    "ytest_flat = ytest.flatten()\n",
    "y_pred_flat = y_pred.flatten()\n",
    "\n",
    "# Metrics\n",
    "mae = mean_absolute_error(ytest_flat, y_pred_flat)\n",
    "mse = mean_squared_error(ytest_flat, y_pred_flat)\n",
    "rmse = np.sqrt(mse)\n",
    "r2 = r2_score(ytest_flat, y_pred_flat)\n",
    "\n",
    "print(\"📊 Model Evaluation Metrics:\")\n",
    "print(f\"Mean Absolute Error (MAE): {mae:.2f}\")\n",
    "print(f\"Mean Squared Error (MSE): {mse:.2f}\")\n",
    "print(f\"Root Mean Squared Error (RMSE): {rmse:.2f}\")\n",
    "print(f\"R² Score: {r2:.2f}\")\n"
   ]
  },
  {
   "cell_type": "code",
   "execution_count": 25,
   "id": "83787a9a-d008-408c-90b8-937dba1b8111",
   "metadata": {},
   "outputs": [],
   "source": [
    "with open(\"food_delivery_model.pkl\", \"wb\") as f:\n",
    "    pickle.dump(model, f)\n"
   ]
  },
  {
   "cell_type": "code",
   "execution_count": 27,
   "id": "83d87447-7cf4-4032-870c-ead01a9585b4",
   "metadata": {},
   "outputs": [],
   "source": [
    "from tensorflow.keras.models import save_model\n",
    "model.save(\"food_delivery_model.keras\")   # or .keras\n"
   ]
  },
  {
   "cell_type": "code",
   "execution_count": null,
   "id": "efd849f0-02ed-4635-937a-eb2d5684984b",
   "metadata": {},
   "outputs": [],
   "source": []
  },
  {
   "cell_type": "code",
   "execution_count": null,
   "id": "1c5e2da5-8934-4f11-b3a6-e14845a976e3",
   "metadata": {},
   "outputs": [],
   "source": []
  },
  {
   "cell_type": "code",
   "execution_count": null,
   "id": "4956cc9c-0603-4e5f-bf48-5ffffa99fa66",
   "metadata": {},
   "outputs": [],
   "source": []
  },
  {
   "cell_type": "code",
   "execution_count": null,
   "id": "208b0b05-402c-4a07-89be-4f1e1dcce1ec",
   "metadata": {},
   "outputs": [],
   "source": []
  },
  {
   "cell_type": "code",
   "execution_count": null,
   "id": "3363e0e2-ea42-44ab-aea1-16f149895056",
   "metadata": {},
   "outputs": [],
   "source": []
  }
 ],
 "metadata": {
  "kernelspec": {
   "display_name": "Python 3 (ipykernel)",
   "language": "python",
   "name": "python3"
  },
  "language_info": {
   "codemirror_mode": {
    "name": "ipython",
    "version": 3
   },
   "file_extension": ".py",
   "mimetype": "text/x-python",
   "name": "python",
   "nbconvert_exporter": "python",
   "pygments_lexer": "ipython3",
   "version": "3.12.7"
  }
 },
 "nbformat": 4,
 "nbformat_minor": 5
}
